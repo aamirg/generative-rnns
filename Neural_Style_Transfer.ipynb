{
  "nbformat": 4,
  "nbformat_minor": 0,
  "metadata": {
    "colab": {
      "name": "Neural Style Transfer.ipynb",
      "provenance": [],
      "collapsed_sections": []
    },
    "kernelspec": {
      "name": "python3",
      "display_name": "Python 3"
    },
    "accelerator": "GPU"
  },
  "cells": [
    {
      "cell_type": "markdown",
      "metadata": {
        "id": "qdDEWzJ_Zu8M",
        "colab_type": "text"
      },
      "source": [
        "### Implement Neural Style transfer algorithm\n",
        "\n",
        "\n",
        "\n",
        "- Use a VGG19 network to compute layer activations for the style-reference image, the target image and the generated image at the same time.\n",
        "- Use the layer activations for these 3 images to define loss functions\n",
        "- Use Gradient Descent to minimize these loss functions"
      ]
    },
    {
      "cell_type": "code",
      "metadata": {
        "id": "wS2yZnj2A16u",
        "colab_type": "code",
        "colab": {}
      },
      "source": [
        "from keras.preprocessing.image import load_img, img_to_array\n",
        "import numpy as np\n",
        "from keras.applications import vgg19\n",
        "from keras import backend as K\n",
        "from scipy.optimize import fmin_l_bfgs_b\n",
        "from scipy.misc import imsave\n",
        "import time"
      ],
      "execution_count": 0,
      "outputs": []
    },
    {
      "cell_type": "code",
      "metadata": {
        "id": "RSDrsu3_ah7O",
        "colab_type": "code",
        "outputId": "bfce7e0d-9a76-481a-a0b1-22c7c582aa16",
        "colab": {
          "base_uri": "https://localhost:8080/",
          "height": 34
        }
      },
      "source": [
        "from google.colab import drive\n",
        "drive.mount('/content/gdrive')"
      ],
      "execution_count": 0,
      "outputs": [
        {
          "output_type": "stream",
          "text": [
            "Drive already mounted at /content/gdrive; to attempt to forcibly remount, call drive.mount(\"/content/gdrive\", force_remount=True).\n"
          ],
          "name": "stdout"
        }
      ]
    },
    {
      "cell_type": "markdown",
      "metadata": {
        "id": "vc68ITN_akFC",
        "colab_type": "text"
      },
      "source": [
        "Define intial variables"
      ]
    },
    {
      "cell_type": "code",
      "metadata": {
        "id": "LizRxt-4am-s",
        "colab_type": "code",
        "colab": {}
      },
      "source": [
        "target_image_path = '/content/gdrive/My Drive/Colab Notebooks/data/neural-style-transfer/target_reference_image.jpg'\n",
        "style_reference_image_path = '/content/gdrive/My Drive/Colab Notebooks/data/neural-style-transfer/style_reference_image.jpg'\n",
        "\n",
        "width, height = load_img(target_image_path).size\n",
        "img_height = 400\n",
        "img_width = int(width*img_height/height)"
      ],
      "execution_count": 0,
      "outputs": []
    },
    {
      "cell_type": "markdown",
      "metadata": {
        "id": "uRWaIuC7eP_N",
        "colab_type": "text"
      },
      "source": [
        "Define auxiliary functions for loading, preprocessing and postprocessing the images that go in and out of the VGG19 convnet."
      ]
    },
    {
      "cell_type": "code",
      "metadata": {
        "id": "yX6Btk-AeO6x",
        "colab_type": "code",
        "colab": {}
      },
      "source": [
        "def preprocess_image(image_path):\n",
        "  img = load_img(image_path, target_size=(img_height,img_width))\n",
        "  img = img_to_array(img)\n",
        "  img = np.expand_dims(img, axis=0)\n",
        "  img = vgg19.preprocess_input(img)\n",
        "  return img\n",
        "\n",
        "def deprocess_image(x):\n",
        "  x[:,:,0] += 103.939\n",
        "  x[:,:,1] += 116.779\n",
        "  x[:,:,2] += 123.68\n",
        "  x = x[:,:,::-1]\n",
        "  x = np.clip(x,0,255).astype('uint8')\n",
        "  return x"
      ],
      "execution_count": 0,
      "outputs": []
    },
    {
      "cell_type": "markdown",
      "metadata": {
        "id": "ABN0qb6bf8ce",
        "colab_type": "text"
      },
      "source": [
        "Let's setup the VGG19 network. It takes as input three images: the style reference\n",
        "image, the target image, and a placeholder that will contain the generated\n",
        "image. The style-reference and target image are static whereas the values contained in the placeholder of the generated image will change over time."
      ]
    },
    {
      "cell_type": "code",
      "metadata": {
        "id": "v7eExkjx2S0i",
        "colab_type": "code",
        "outputId": "5e4efd51-3b93-46e1-a7d0-624e6be101f9",
        "colab": {
          "base_uri": "https://localhost:8080/",
          "height": 34
        }
      },
      "source": [
        "target_image = K.constant(preprocess_image(target_image_path))\n",
        "style_image = K.constant(preprocess_image(style_reference_image_path))\n",
        "combination_image = K.placeholder((1,img_height,img_width,3))\n",
        "\n",
        "#Combines the three images in a single batch\n",
        "input_tensor = K.concatenate([target_image, style_image,combination_image],axis=0)\n",
        "\n",
        "#Builds the VGG19 network with the batch of three images as input. The model will be loaded with pretrained ImageNet weights.\n",
        "model = vgg19.VGG19(input_tensor = input_tensor, weights='imagenet',include_top=False)\n",
        "print('Model loaded')"
      ],
      "execution_count": 0,
      "outputs": [
        {
          "output_type": "stream",
          "text": [
            "Model loaded\n"
          ],
          "name": "stdout"
        }
      ]
    },
    {
      "cell_type": "markdown",
      "metadata": {
        "id": "-Mph8texDPzw",
        "colab_type": "text"
      },
      "source": [
        "Lets define Content and Style loss.\n",
        "- Content loss : ensures the top layer of the VGG19 convnet has a similar view of the target image and the generated image.\n",
        "- Style loss : computes Gram matrix of a map of the correlations found in the original feature matrix"
      ]
    },
    {
      "cell_type": "code",
      "metadata": {
        "id": "6vMHioasDOb6",
        "colab_type": "code",
        "colab": {}
      },
      "source": [
        "def content_loss(base,combination):\n",
        "  return K.sum(K.square(combination-base))\n",
        "\n",
        "def gram_matrix(x):\n",
        "  \"Auxiliary function to help compute gram matrix for the style loss\"\n",
        "  features = K.batch_flatten(K.permute_dimensions(x,(2,0,1)))\n",
        "  gram = K.dot(features,K.transpose(features))\n",
        "  return gram\n",
        "\n",
        "def style_loss(style,combination):\n",
        "  S = gram_matrix(style)\n",
        "  C = gram_matrix(combination)\n",
        "  channels = 3\n",
        "  size = img_height * img_width\n",
        "  return K.sum(K.square(S-C))/(4. * (channels**2)*(size**2))\n",
        "  "
      ],
      "execution_count": 0,
      "outputs": []
    },
    {
      "cell_type": "markdown",
      "metadata": {
        "id": "w0OVt0kVhGv7",
        "colab_type": "text"
      },
      "source": [
        "Add Total variation loss which is like a regularization loss allowing for spatial continuity in the generated image, thus avoiding overly pixelated results."
      ]
    },
    {
      "cell_type": "code",
      "metadata": {
        "id": "1z79PGcbhZ5n",
        "colab_type": "code",
        "colab": {}
      },
      "source": [
        "def total_variation_loss(x):\n",
        "  a = K.square(\n",
        "  x[:,:img_height-1,:img_width-1,:] - \n",
        "  x[:,1:,:img_width-1,:])\n",
        "  \n",
        "  b = K.square(x[:,:img_height-1,:img_width-1,:] - \n",
        "  x[:,:img_height-1,1:,:])\n",
        "  \n",
        "  return K.sum(K.pow(a+b,1.25))"
      ],
      "execution_count": 0,
      "outputs": []
    },
    {
      "cell_type": "markdown",
      "metadata": {
        "id": "cweh8Ix3sg_f",
        "colab_type": "text"
      },
      "source": [
        "The loss that we minimize is a weighted average of these three losses. To compute the\n",
        "content loss, we use—the block5_conv2 layer—whereas for the style loss, we use a list of layers than spans both low-level and high-level layers. We add the total variation loss at the end."
      ]
    },
    {
      "cell_type": "code",
      "metadata": {
        "id": "iSiA4iZtspAY",
        "colab_type": "code",
        "outputId": "c8994494-bace-4cd3-db3d-5ffca64bbe83",
        "colab": {
          "base_uri": "https://localhost:8080/",
          "height": 54
        }
      },
      "source": [
        "outputs_dict = dict([(layer.name, layer.output) for layer in model.layers])\n",
        "\n",
        "#Layers used for style and content loss\n",
        "content_layer = 'block5_conv2'\n",
        "style_layers = ['block1_conv1','block2_conv1','block3_conv1','block4_conv1','block5_conv1']\n",
        "\n",
        "#Weights in weighted average of the loss components\n",
        "total_variation_weight = 1e-4\n",
        "style_weight = 1.\n",
        "content_weight = 0.025\n",
        "\n",
        "loss = K.variable(0.) #variable to which we add all the losses\n",
        "\n",
        "#Add content loss\n",
        "layer_features = outputs_dict[content_layer]\n",
        "target_image_features = layer_features[0,:,:,:]\n",
        "combination_features = layer_features[2,:,:,:]\n",
        "loss += content_weight * content_loss(target_image_features, combination_features)\n",
        "\n",
        "#Add style loss\n",
        "for layer_name in style_layers:\n",
        "  layer_features = outputs_dict[layer_name]\n",
        "  style_reference_features = layer_features[1,:,:,:]\n",
        "  combination_features = layer_features[2,:,:,:]\n",
        "  \n",
        "  s1 = style_loss(style_reference_features,combination_features)\n",
        "  loss += (style_weight/len(style_layers)) * s1\n",
        "  \n",
        "loss += total_variation_weight * total_variation_loss(combination_image)"
      ],
      "execution_count": 0,
      "outputs": [
        {
          "output_type": "stream",
          "text": [
            "WARNING:tensorflow:Variable += will be deprecated. Use variable.assign_add if you want assignment to the variable value or 'x = x + y' if you want a new python Tensor object.\n"
          ],
          "name": "stdout"
        }
      ]
    },
    {
      "cell_type": "markdown",
      "metadata": {
        "id": "Dpb0yMwMhVrI",
        "colab_type": "text"
      },
      "source": [
        "Setup the gradient ascent process using L-BFGS algorithm"
      ]
    },
    {
      "cell_type": "code",
      "metadata": {
        "id": "nCQLiaCzhU1p",
        "colab_type": "code",
        "colab": {}
      },
      "source": [
        "#Gets the gradients of the generated image wrt the loss\n",
        "grads = K.gradients(loss, combination_image)[0]\n",
        "\n",
        "#function to fetch the values of the current loss and the current gradients\n",
        "fetch_loss_and_grads = K.function([combination_image],[loss,grads])\n",
        "\n",
        "class Evaluator(object):\n",
        "  \"\"\"This class wraps fetch_loss_and_grads in a way that lets you retrieve the losses and gradients via\n",
        "   two separate method calls, which is required by the SciPy optimizer\"\"\"\n",
        "  \n",
        "  def __init__(self):\n",
        "    self.loss_value = None\n",
        "    self.grads_value = None\n",
        "    \n",
        "  def loss(self,x):\n",
        "    assert self.loss_value is None\n",
        "    x = x.reshape((1, img_height, img_width, 3))\n",
        "    outs = fetch_loss_and_grads([x])\n",
        "    loss_value = outs[0]\n",
        "    grad_values = outs[1].flatten().astype('float64')\n",
        "    self.loss_value = loss_value\n",
        "    self.grad_values = grad_values\n",
        "    return self.loss_value\n",
        "  \n",
        "  def grads(self,x):\n",
        "    assert self.loss_value is not None\n",
        "    grad_values = np.copy(self.grad_values)\n",
        "    self.loss_value = None\n",
        "    self.grad_values = None\n",
        "    return grad_values\n",
        "  \n",
        "evaluator = Evaluator()\n",
        "    "
      ],
      "execution_count": 0,
      "outputs": []
    },
    {
      "cell_type": "markdown",
      "metadata": {
        "id": "GGN7caQd4v6K",
        "colab_type": "text"
      },
      "source": [
        "Now we run the gradient ascent process using SciPy's L-BFGS algorithm"
      ]
    },
    {
      "cell_type": "code",
      "metadata": {
        "id": "e8a8V2l35Vfo",
        "colab_type": "code",
        "outputId": "6e509d58-f704-473d-e8dc-08a4edaa71c2",
        "colab": {
          "base_uri": "https://localhost:8080/",
          "height": 2108
        }
      },
      "source": [
        "result_prefix = '/content/gdrive/My Drive/Colab Notebooks/data/neural-style-transfer/my_result'\n",
        "iterations = 30\n",
        "\n",
        "x = preprocess_image(target_image_path) #initial state\n",
        "\n",
        "#flatten the image because scipy.optimize.fmin_l_bfgs_b can only process flat vectors.\n",
        "x = x.flatten()  \n",
        "for i in range(iterations):\n",
        "  print ('Start of iteration', i)\n",
        "  start_time = time.time()\n",
        "  x, min_val, info = fmin_l_bfgs_b(evaluator.loss, x, fprime=evaluator.grads, maxfun=20)\n",
        "  \n",
        "  print('Current loss value:', min_val)\n",
        "  img = x.copy().reshape((img_height, img_width, 3))\n",
        "  img = deprocess_image(img)\n",
        "  fname = result_prefix + '_at_iteration_%d.png' %i\n",
        "  imsave(fname,img)\n",
        "  \n",
        "  print('Image saved as', fname)\n",
        "  end_time = time.time()\n",
        "  print('Iteration %d completed in %ds' % (i, end_time - start_time))"
      ],
      "execution_count": 0,
      "outputs": [
        {
          "output_type": "stream",
          "text": [
            "Start of iteration 0\n",
            "Current loss value: 5263411700.0\n",
            "Image saved as /content/gdrive/My Drive/Colab Notebooks/data/neural-style-transfer/my_result_at_iteration_0.png\n",
            "Iteration 0 completed in 12s\n",
            "Start of iteration 1\n"
          ],
          "name": "stdout"
        },
        {
          "output_type": "stream",
          "text": [
            "/usr/local/lib/python3.6/dist-packages/ipykernel_launcher.py:17: DeprecationWarning: `imsave` is deprecated!\n",
            "`imsave` is deprecated in SciPy 1.0.0, and will be removed in 1.2.0.\n",
            "Use ``imageio.imwrite`` instead.\n"
          ],
          "name": "stderr"
        },
        {
          "output_type": "stream",
          "text": [
            "Current loss value: 1875334300.0\n",
            "Image saved as /content/gdrive/My Drive/Colab Notebooks/data/neural-style-transfer/my_result_at_iteration_1.png\n",
            "Iteration 1 completed in 8s\n",
            "Start of iteration 2\n",
            "Current loss value: 1063689600.0\n",
            "Image saved as /content/gdrive/My Drive/Colab Notebooks/data/neural-style-transfer/my_result_at_iteration_2.png\n",
            "Iteration 2 completed in 8s\n",
            "Start of iteration 3\n",
            "Current loss value: 756387260.0\n",
            "Image saved as /content/gdrive/My Drive/Colab Notebooks/data/neural-style-transfer/my_result_at_iteration_3.png\n",
            "Iteration 3 completed in 8s\n",
            "Start of iteration 4\n",
            "Current loss value: 601453760.0\n",
            "Image saved as /content/gdrive/My Drive/Colab Notebooks/data/neural-style-transfer/my_result_at_iteration_4.png\n",
            "Iteration 4 completed in 8s\n",
            "Start of iteration 5\n",
            "Current loss value: 478343580.0\n",
            "Image saved as /content/gdrive/My Drive/Colab Notebooks/data/neural-style-transfer/my_result_at_iteration_5.png\n",
            "Iteration 5 completed in 8s\n",
            "Start of iteration 6\n",
            "Current loss value: 396649000.0\n",
            "Image saved as /content/gdrive/My Drive/Colab Notebooks/data/neural-style-transfer/my_result_at_iteration_6.png\n",
            "Iteration 6 completed in 8s\n",
            "Start of iteration 7\n",
            "Current loss value: 355895400.0\n",
            "Image saved as /content/gdrive/My Drive/Colab Notebooks/data/neural-style-transfer/my_result_at_iteration_7.png\n",
            "Iteration 7 completed in 9s\n",
            "Start of iteration 8\n",
            "Current loss value: 324628930.0\n",
            "Image saved as /content/gdrive/My Drive/Colab Notebooks/data/neural-style-transfer/my_result_at_iteration_8.png\n",
            "Iteration 8 completed in 9s\n",
            "Start of iteration 9\n",
            "Current loss value: 299429800.0\n",
            "Image saved as /content/gdrive/My Drive/Colab Notebooks/data/neural-style-transfer/my_result_at_iteration_9.png\n",
            "Iteration 9 completed in 9s\n",
            "Start of iteration 10\n",
            "Current loss value: 280093220.0\n",
            "Image saved as /content/gdrive/My Drive/Colab Notebooks/data/neural-style-transfer/my_result_at_iteration_10.png\n",
            "Iteration 10 completed in 9s\n",
            "Start of iteration 11\n",
            "Current loss value: 262065490.0\n",
            "Image saved as /content/gdrive/My Drive/Colab Notebooks/data/neural-style-transfer/my_result_at_iteration_11.png\n",
            "Iteration 11 completed in 9s\n",
            "Start of iteration 12\n",
            "Current loss value: 248007140.0\n",
            "Image saved as /content/gdrive/My Drive/Colab Notebooks/data/neural-style-transfer/my_result_at_iteration_12.png\n",
            "Iteration 12 completed in 9s\n",
            "Start of iteration 13\n",
            "Current loss value: 233618080.0\n",
            "Image saved as /content/gdrive/My Drive/Colab Notebooks/data/neural-style-transfer/my_result_at_iteration_13.png\n",
            "Iteration 13 completed in 9s\n",
            "Start of iteration 14\n",
            "Current loss value: 224279540.0\n",
            "Image saved as /content/gdrive/My Drive/Colab Notebooks/data/neural-style-transfer/my_result_at_iteration_14.png\n",
            "Iteration 14 completed in 9s\n",
            "Start of iteration 15\n",
            "Current loss value: 214198910.0\n",
            "Image saved as /content/gdrive/My Drive/Colab Notebooks/data/neural-style-transfer/my_result_at_iteration_15.png\n",
            "Iteration 15 completed in 9s\n",
            "Start of iteration 16\n",
            "Current loss value: 206222190.0\n",
            "Image saved as /content/gdrive/My Drive/Colab Notebooks/data/neural-style-transfer/my_result_at_iteration_16.png\n",
            "Iteration 16 completed in 9s\n",
            "Start of iteration 17\n",
            "Current loss value: 200715330.0\n",
            "Image saved as /content/gdrive/My Drive/Colab Notebooks/data/neural-style-transfer/my_result_at_iteration_17.png\n",
            "Iteration 17 completed in 9s\n",
            "Start of iteration 18\n",
            "Current loss value: 195922530.0\n",
            "Image saved as /content/gdrive/My Drive/Colab Notebooks/data/neural-style-transfer/my_result_at_iteration_18.png\n",
            "Iteration 18 completed in 9s\n",
            "Start of iteration 19\n",
            "Current loss value: 189086690.0\n",
            "Image saved as /content/gdrive/My Drive/Colab Notebooks/data/neural-style-transfer/my_result_at_iteration_19.png\n",
            "Iteration 19 completed in 9s\n",
            "Start of iteration 20\n",
            "Current loss value: 183974500.0\n",
            "Image saved as /content/gdrive/My Drive/Colab Notebooks/data/neural-style-transfer/my_result_at_iteration_20.png\n",
            "Iteration 20 completed in 9s\n",
            "Start of iteration 21\n",
            "Current loss value: 179159020.0\n",
            "Image saved as /content/gdrive/My Drive/Colab Notebooks/data/neural-style-transfer/my_result_at_iteration_21.png\n",
            "Iteration 21 completed in 9s\n",
            "Start of iteration 22\n",
            "Current loss value: 175377500.0\n",
            "Image saved as /content/gdrive/My Drive/Colab Notebooks/data/neural-style-transfer/my_result_at_iteration_22.png\n",
            "Iteration 22 completed in 9s\n",
            "Start of iteration 23\n",
            "Current loss value: 171842980.0\n",
            "Image saved as /content/gdrive/My Drive/Colab Notebooks/data/neural-style-transfer/my_result_at_iteration_23.png\n",
            "Iteration 23 completed in 9s\n",
            "Start of iteration 24\n",
            "Current loss value: 168772460.0\n",
            "Image saved as /content/gdrive/My Drive/Colab Notebooks/data/neural-style-transfer/my_result_at_iteration_24.png\n",
            "Iteration 24 completed in 9s\n",
            "Start of iteration 25\n",
            "Current loss value: 165460900.0\n",
            "Image saved as /content/gdrive/My Drive/Colab Notebooks/data/neural-style-transfer/my_result_at_iteration_25.png\n",
            "Iteration 25 completed in 9s\n",
            "Start of iteration 26\n",
            "Current loss value: 162814750.0\n",
            "Image saved as /content/gdrive/My Drive/Colab Notebooks/data/neural-style-transfer/my_result_at_iteration_26.png\n",
            "Iteration 26 completed in 9s\n",
            "Start of iteration 27\n",
            "Current loss value: 160429650.0\n",
            "Image saved as /content/gdrive/My Drive/Colab Notebooks/data/neural-style-transfer/my_result_at_iteration_27.png\n",
            "Iteration 27 completed in 9s\n",
            "Start of iteration 28\n",
            "Current loss value: 158500770.0\n",
            "Image saved as /content/gdrive/My Drive/Colab Notebooks/data/neural-style-transfer/my_result_at_iteration_28.png\n",
            "Iteration 28 completed in 9s\n",
            "Start of iteration 29\n",
            "Current loss value: 156230290.0\n",
            "Image saved as /content/gdrive/My Drive/Colab Notebooks/data/neural-style-transfer/my_result_at_iteration_29.png\n",
            "Iteration 29 completed in 9s\n"
          ],
          "name": "stdout"
        }
      ]
    }
  ]
}